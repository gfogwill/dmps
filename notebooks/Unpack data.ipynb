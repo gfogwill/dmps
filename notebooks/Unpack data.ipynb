{
 "cells": [
  {
   "cell_type": "code",
   "execution_count": 1,
   "metadata": {},
   "outputs": [],
   "source": [
    "%load_ext autoreload\n",
    "%autoreload 2"
   ]
  },
  {
   "cell_type": "code",
   "execution_count": 2,
   "metadata": {},
   "outputs": [],
   "source": [
    "import logging\n",
    "from src.log import logger\n",
    "logger.setLevel(logging.INFO)"
   ]
  },
  {
   "cell_type": "markdown",
   "metadata": {},
   "source": [
    "## Directories\n",
    "\n",
    "- data\n",
    "   - Data directory. often symlinked to a filesystem with lots of space\n",
    "  \n",
    "- data/raw\n",
    "  - Raw (immutable) hash-verified downloads\n",
    "  \n",
    "- data/interim\n",
    "  - Extracted and interim data representations, such as caches\n",
    "  \n",
    "- data/processed\n",
    "  - The final, cleaned and processed data sets for modeling.\n"
   ]
  },
  {
   "cell_type": "code",
   "execution_count": 3,
   "metadata": {},
   "outputs": [],
   "source": [
    "from src.paths import raw_data_path, interim_data_path, processed_data_path, external_data_path"
   ]
  },
  {
   "cell_type": "code",
   "execution_count": 8,
   "metadata": {},
   "outputs": [],
   "source": [
    "from src.utils import list_dir\n",
    "\n",
    "list_dir(processed_data_path)"
   ]
  },
  {
   "cell_type": "markdown",
   "metadata": {},
   "source": [
    "## mbi-cle: \n",
    "\n",
    "Dataset mbi-cle includes DMPS clean data processed with Matlab."
   ]
  },
  {
   "cell_type": "code",
   "execution_count": 4,
   "metadata": {},
   "outputs": [],
   "source": [
    "from src.data.datasets import RawDataset\n",
    "\n",
    "dataset_name = 'mbi-cle'\n",
    "\n",
    "mbi_cle = RawDataset(dataset_name)\n",
    "mbi_cle.add_url(url=\"https://zenodo.org/record/5494544/files/mbi-cle.tar\")"
   ]
  },
  {
   "cell_type": "markdown",
   "metadata": {},
   "source": [
    "Download the data and save it in ```external_data_path```"
   ]
  },
  {
   "cell_type": "code",
   "execution_count": 8,
   "metadata": {
    "scrolled": true
   },
   "outputs": [],
   "source": [
    "mbi_cle.fetch(fetch_path=external_data_path / dataset_name)"
   ]
  },
  {
   "cell_type": "markdown",
   "metadata": {},
   "source": [
    "Create a folder with the dataset name in ```external_data_path```` and unpack the data"
   ]
  },
  {
   "cell_type": "code",
   "execution_count": 13,
   "metadata": {},
   "outputs": [],
   "source": [
    "!mkdir ../data/external/mbi-cle"
   ]
  },
  {
   "cell_type": "code",
   "execution_count": 19,
   "metadata": {},
   "outputs": [
    {
     "data": {
      "text/plain": [
       "PosixPath('/home/gfogwil/Documentos/Trabajo/instrumentos/dmps/data/external/mbi-cle')"
      ]
     },
     "execution_count": 19,
     "metadata": {},
     "output_type": "execute_result"
    }
   ],
   "source": [
    "mbi_cle.unpack(unpack_path=external_data_path / dataset_name, force=True)"
   ]
  },
  {
   "cell_type": "code",
   "execution_count": 22,
   "metadata": {},
   "outputs": [],
   "source": [
    "from src.data.localdata import read_interim_file\n",
    "\n",
    "mbi_cle.load_function = read_interim_file"
   ]
  },
  {
   "cell_type": "code",
   "execution_count": 24,
   "metadata": {},
   "outputs": [
    {
     "ename": "TypeError",
     "evalue": "read_interim_file() missing 1 required positional argument: 'filename'",
     "output_type": "error",
     "traceback": [
      "\u001b[0;31m---------------------------------------------------------------------------\u001b[0m",
      "\u001b[0;31mTypeError\u001b[0m                                 Traceback (most recent call last)",
      "\u001b[0;32m<ipython-input-24-515f60101564>\u001b[0m in \u001b[0;36m<module>\u001b[0;34m\u001b[0m\n\u001b[0;32m----> 1\u001b[0;31m \u001b[0mmbi_cle\u001b[0m\u001b[0;34m.\u001b[0m\u001b[0mprocess\u001b[0m\u001b[0;34m(\u001b[0m\u001b[0;34m)\u001b[0m\u001b[0;34m\u001b[0m\u001b[0;34m\u001b[0m\u001b[0m\n\u001b[0m",
      "\u001b[0;32m~/Documentos/Trabajo/instrumentos/dmps/src/data/datasets.py\u001b[0m in \u001b[0;36mprocess\u001b[0;34m(self, cache_path, force, return_X_y, use_docstring, **kwargs)\u001b[0m\n\u001b[1;32m    640\u001b[0m             \u001b[0msupplied_metadata\u001b[0m \u001b[0;34m=\u001b[0m \u001b[0mkwargs\u001b[0m\u001b[0;34m.\u001b[0m\u001b[0mpop\u001b[0m\u001b[0;34m(\u001b[0m\u001b[0;34m'metadata'\u001b[0m\u001b[0;34m,\u001b[0m \u001b[0;34m{\u001b[0m\u001b[0;34m}\u001b[0m\u001b[0;34m)\u001b[0m\u001b[0;34m\u001b[0m\u001b[0;34m\u001b[0m\u001b[0m\n\u001b[1;32m    641\u001b[0m             \u001b[0mkwargs\u001b[0m\u001b[0;34m[\u001b[0m\u001b[0;34m'metadata'\u001b[0m\u001b[0;34m]\u001b[0m \u001b[0;34m=\u001b[0m \u001b[0;34m{\u001b[0m\u001b[0;34m**\u001b[0m\u001b[0mmetadata\u001b[0m\u001b[0;34m,\u001b[0m \u001b[0;34m**\u001b[0m\u001b[0msupplied_metadata\u001b[0m\u001b[0;34m}\u001b[0m\u001b[0;34m\u001b[0m\u001b[0;34m\u001b[0m\u001b[0m\n\u001b[0;32m--> 642\u001b[0;31m             \u001b[0mdset_opts\u001b[0m \u001b[0;34m=\u001b[0m \u001b[0mself\u001b[0m\u001b[0;34m.\u001b[0m\u001b[0mload_function\u001b[0m\u001b[0;34m(\u001b[0m\u001b[0;34m**\u001b[0m\u001b[0mkwargs\u001b[0m\u001b[0;34m)\u001b[0m\u001b[0;34m\u001b[0m\u001b[0;34m\u001b[0m\u001b[0m\n\u001b[0m\u001b[1;32m    643\u001b[0m             \u001b[0mdset\u001b[0m \u001b[0;34m=\u001b[0m \u001b[0mDataset\u001b[0m\u001b[0;34m(\u001b[0m\u001b[0;34m**\u001b[0m\u001b[0mdset_opts\u001b[0m\u001b[0;34m)\u001b[0m\u001b[0;34m\u001b[0m\u001b[0;34m\u001b[0m\u001b[0m\n\u001b[1;32m    644\u001b[0m             \u001b[0mdset\u001b[0m\u001b[0;34m.\u001b[0m\u001b[0mdump\u001b[0m\u001b[0;34m(\u001b[0m\u001b[0mdump_path\u001b[0m\u001b[0;34m=\u001b[0m\u001b[0mcache_path\u001b[0m\u001b[0;34m,\u001b[0m \u001b[0mfile_base\u001b[0m\u001b[0;34m=\u001b[0m\u001b[0mmeta_hash\u001b[0m\u001b[0;34m)\u001b[0m\u001b[0;34m\u001b[0m\u001b[0;34m\u001b[0m\u001b[0m\n",
      "\u001b[0;31mTypeError\u001b[0m: read_interim_file() missing 1 required positional argument: 'filename'"
     ]
    }
   ],
   "source": [
    "mbi_cle.process()"
   ]
  },
  {
   "cell_type": "code",
   "execution_count": 24,
   "metadata": {},
   "outputs": [
    {
     "data": {
      "text/plain": [
       "[]"
      ]
     },
     "execution_count": 24,
     "metadata": {},
     "output_type": "execute_result"
    }
   ],
   "source": [
    "from src.data.datasets import available_datasets\n",
    "available_datasets()"
   ]
  },
  {
   "cell_type": "markdown",
   "metadata": {},
   "source": [
    "Can get help"
   ]
  },
  {
   "cell_type": "code",
   "execution_count": 63,
   "metadata": {},
   "outputs": [
    {
     "name": "stdout",
     "output_type": "stream",
     "text": [
      "Help on function add_url in module src.data.datasets:\n",
      "\n",
      "add_url(self, url=None, hash_type='sha1', hash_value=None, name=None, file_name=None)\n",
      "    Add a URL to the file list\n",
      "    \n",
      "    hash_type: {'sha1', 'md5', 'sha256'}\n",
      "    hash_value: string or None\n",
      "        if None, hash will be computed from downloaded file\n",
      "    file_name: string or None\n",
      "        Name of downloaded file. If None, will be the last component of the URL\n",
      "    url: string\n",
      "        URL to fetch\n",
      "    name: str\n",
      "        text description of this file.\n",
      "\n"
     ]
    }
   ],
   "source": [
    "help(RawDataset.add_url)"
   ]
  },
  {
   "cell_type": "markdown",
   "metadata": {},
   "source": [
    "We will use this feature to add a README to our dataset:"
   ]
  },
  {
   "cell_type": "code",
   "execution_count": 64,
   "metadata": {},
   "outputs": [],
   "source": [
    "# mbi_cle.add_url(url='http://www.smn.gov.ar/',\n",
    "#                 file_name=f'{dataset_name}.readme',\n",
    "#                 name='DESCR')"
   ]
  },
  {
   "cell_type": "markdown",
   "metadata": {},
   "source": [
    "Datasets should always have an explicit license. Reading the project documentation, we see a license in one of the textfiles."
   ]
  },
  {
   "cell_type": "code",
   "execution_count": 65,
   "metadata": {},
   "outputs": [],
   "source": [
    "license_txt = '''\n",
    "************************************************************************\n",
    "*                                                                      *\n",
    "*                              MBI_CLE                                 *\n",
    "*                                                                      *\n",
    "*                                                                      *\n",
    "*                      Copyright (c) 2021                              *\n",
    "*                                                                      *\n",
    "************************************************************************\n",
    "'''"
   ]
  },
  {
   "cell_type": "markdown",
   "metadata": {},
   "source": [
    "We can extract and use the license via the add_metadata() method:"
   ]
  },
  {
   "cell_type": "code",
   "execution_count": 49,
   "metadata": {},
   "outputs": [],
   "source": [
    "mbi_cle.add_metadata(contents=license_txt, kind='LICENSE')"
   ]
  },
  {
   "cell_type": "code",
   "execution_count": 68,
   "metadata": {},
   "outputs": [],
   "source": [
    "for file in list_dir(external_data_path):\n",
    "    mbi_cle.add_file(hash_type='sha256', name=file, file_name=external_data_path / file)"
   ]
  },
  {
   "cell_type": "code",
   "execution_count": 73,
   "metadata": {},
   "outputs": [
    {
     "data": {
      "text/plain": [
       "{'hash_type': 'sha256',\n",
       " 'hash_value': None,\n",
       " 'name': 'DMPSmbiocle2019.dat',\n",
       " 'file_name': PosixPath('/home/gfogwil/Documentos/Trabajo/instrumentos/dmps/data/external/DMPSmbiocle2019.dat')}"
      ]
     },
     "execution_count": 73,
     "metadata": {},
     "output_type": "execute_result"
    }
   ],
   "source": [
    "mbi_cle.file_list[0]"
   ]
  },
  {
   "cell_type": "code",
   "execution_count": 69,
   "metadata": {},
   "outputs": [
    {
     "name": "stdout",
     "output_type": "stream",
     "text": [
      "url_list [{'hash_type': 'sha256', 'hash_value': None, 'name': 'DMPSmbiocle2019.dat', 'file_name': PosixPath('/home/gfogwil/Documentos/Trabajo/instrumentos/dmps/data/external/DMPSmbiocle2019.dat')}, {'hash_type': 'sha256', 'hash_value': None, 'name': 'DMPSmbiocle2015.dat', 'file_name': PosixPath('/home/gfogwil/Documentos/Trabajo/instrumentos/dmps/data/external/DMPSmbiocle2015.dat')}, {'hash_type': 'sha256', 'hash_value': None, 'name': 'DMPSmbiocle2018.dat', 'file_name': PosixPath('/home/gfogwil/Documentos/Trabajo/instrumentos/dmps/data/external/DMPSmbiocle2018.dat')}, {'hash_type': 'sha256', 'hash_value': None, 'name': 'DMPSmbiocle2014.dat', 'file_name': PosixPath('/home/gfogwil/Documentos/Trabajo/instrumentos/dmps/data/external/DMPSmbiocle2014.dat')}, {'hash_type': 'sha256', 'hash_value': None, 'name': 'DMPSmbiocle2020.dat', 'file_name': PosixPath('/home/gfogwil/Documentos/Trabajo/instrumentos/dmps/data/external/DMPSmbiocle2020.dat')}, {'hash_type': 'sha256', 'hash_value': None, 'name': 'DMPSmbiocle2016.dat', 'file_name': PosixPath('/home/gfogwil/Documentos/Trabajo/instrumentos/dmps/data/external/DMPSmbiocle2016.dat')}, {'hash_type': 'sha256', 'hash_value': None, 'name': 'DMPSmbiocle2013.dat', 'file_name': PosixPath('/home/gfogwil/Documentos/Trabajo/instrumentos/dmps/data/external/DMPSmbiocle2013.dat')}, {'hash_type': 'sha256', 'hash_value': None, 'name': 'DMPSmbiocle2017.dat', 'file_name': PosixPath('/home/gfogwil/Documentos/Trabajo/instrumentos/dmps/data/external/DMPSmbiocle2017.dat')}] \n",
      "\n",
      "load_function_module src.utils \n",
      "\n",
      "load_function_name process_dataset_default \n",
      "\n",
      "load_function_args () \n",
      "\n",
      "load_function_kwargs {} \n",
      "\n",
      "name mbi-cle \n",
      "\n",
      "dataset_dir /home/gfogwil/Documentos/Trabajo/instrumentos/dmps/data/raw \n",
      "\n"
     ]
    }
   ],
   "source": [
    "for key, value in mbi_cle.to_dict().items() :\n",
    "    print(key, value, '\\n')"
   ]
  },
  {
   "cell_type": "code",
   "execution_count": null,
   "metadata": {},
   "outputs": [],
   "source": []
  }
 ],
 "metadata": {
  "kernelspec": {
   "display_name": "Python 3",
   "language": "python",
   "name": "python3"
  },
  "language_info": {
   "codemirror_mode": {
    "name": "ipython",
    "version": 3
   },
   "file_extension": ".py",
   "mimetype": "text/x-python",
   "name": "python",
   "nbconvert_exporter": "python",
   "pygments_lexer": "ipython3",
   "version": "3.7.4"
  }
 },
 "nbformat": 4,
 "nbformat_minor": 5
}
