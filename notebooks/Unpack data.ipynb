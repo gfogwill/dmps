{
 "cells": [
  {
   "cell_type": "code",
   "execution_count": 1,
   "metadata": {},
   "outputs": [],
   "source": [
    "%load_ext autoreload\n",
    "%autoreload 2"
   ]
  },
  {
   "cell_type": "code",
   "execution_count": 2,
   "metadata": {},
   "outputs": [],
   "source": [
    "import logging\n",
    "from src.log import logger\n",
    "logger.setLevel(logging.INFO)"
   ]
  },
  {
   "cell_type": "markdown",
   "metadata": {},
   "source": [
    "## Directories\n",
    "\n",
    "- data\n",
    "   - Data directory. often symlinked to a filesystem with lots of space\n",
    "  \n",
    "- data/raw\n",
    "  - Raw (immutable) hash-verified downloads\n",
    "  \n",
    "- data/interim\n",
    "  - Extracted and interim data representations, such as caches\n",
    "  \n",
    "- data/processed\n",
    "  - The final, cleaned and processed data sets for modeling.\n"
   ]
  },
  {
   "cell_type": "code",
   "execution_count": 3,
   "metadata": {},
   "outputs": [],
   "source": [
    "from src.paths import raw_data_path, interim_data_path, processed_data_path\n"
   ]
  },
  {
   "cell_type": "markdown",
   "metadata": {},
   "source": [
    "## mbi-cle: \n",
    "\n",
    "\n",
    "The Learning Vector Quantization (lvq-pak) project includes a simple Finnish phonetic dataset consisting 20-dimensional Mel Frequency Cepstrum Coefficients (MFCCs) labelled with target phoneme information. Our goal is to explore this dataset, process it into a useful form, and make it a part of a reproducible data science workflow."
   ]
  },
  {
   "cell_type": "code",
   "execution_count": 12,
   "metadata": {},
   "outputs": [],
   "source": [
    "dataset_name = 'mbi-cle'     # Naming things: the hardest problem in computer science."
   ]
  },
  {
   "cell_type": "code",
   "execution_count": 13,
   "metadata": {},
   "outputs": [],
   "source": [
    "from src.utils import list_dir"
   ]
  },
  {
   "cell_type": "code",
   "execution_count": 14,
   "metadata": {},
   "outputs": [
    {
     "data": {
      "text/plain": [
       "['2020',\n",
       " '2016',\n",
       " 'events-2015.csv',\n",
       " 'events-2016.csv',\n",
       " 'events-2020.csv',\n",
       " 'events-2018.csv',\n",
       " '2019',\n",
       " '2015',\n",
       " 'events-2013.csv',\n",
       " '2013',\n",
       " '2014',\n",
       " 'events-2014.csv',\n",
       " 'events-2017.csv',\n",
       " '2017',\n",
       " '2018',\n",
       " 'events-2019.csv']"
      ]
     },
     "execution_count": 14,
     "metadata": {},
     "output_type": "execute_result"
    }
   ],
   "source": [
    "list_dir(processed_data_path)\n"
   ]
  },
  {
   "cell_type": "code",
   "execution_count": 18,
   "metadata": {},
   "outputs": [],
   "source": [
    "from src.data.datasets import Dataset"
   ]
  },
  {
   "cell_type": "code",
   "execution_count": 17,
   "metadata": {},
   "outputs": [],
   "source": [
    "mbi_cle = RawDataset(dataset_name)\n",
    "# lvq_pak.add_url(url=\"http://www.cis.hut.fi/research/lvq_pak/lvq_pak-3.1.tar\")"
   ]
  },
  {
   "cell_type": "markdown",
   "metadata": {},
   "source": [
    "Can get help"
   ]
  },
  {
   "cell_type": "code",
   "execution_count": 23,
   "metadata": {},
   "outputs": [
    {
     "name": "stdout",
     "output_type": "stream",
     "text": [
      "Help on function add_url in module src.data.datasets:\n",
      "\n",
      "add_url(self, url=None, hash_type='sha1', hash_value=None, name=None, file_name=None)\n",
      "    Add a URL to the file list\n",
      "    \n",
      "    hash_type: {'sha1', 'md5', 'sha256'}\n",
      "    hash_value: string or None\n",
      "        if None, hash will be computed from downloaded file\n",
      "    file_name: string or None\n",
      "        Name of downloaded file. If None, will be the last component of the URL\n",
      "    url: string\n",
      "        URL to fetch\n",
      "    name: str\n",
      "        text description of this file.\n",
      "\n"
     ]
    }
   ],
   "source": [
    "help(RawDataset.add_url)"
   ]
  },
  {
   "cell_type": "markdown",
   "metadata": {},
   "source": [
    "We will use this feature to add a README to our dataset:"
   ]
  },
  {
   "cell_type": "code",
   "execution_count": null,
   "metadata": {},
   "outputs": [],
   "source": [
    "mbi_cle.add_url(url='http://www.smn.gov.ar/',\n",
    "                file_name=f'{dataset_name}.readme',\n",
    "                name='DESCR')"
   ]
  },
  {
   "cell_type": "markdown",
   "metadata": {},
   "source": [
    "Datasets should always have an explicit license. Reading the project documentation, we see a license in one of the textfiles."
   ]
  },
  {
   "cell_type": "code",
   "execution_count": 25,
   "metadata": {},
   "outputs": [],
   "source": [
    "license_txt = '''\n",
    "************************************************************************\n",
    "*                                                                      *\n",
    "*                              MBI_CLE                                 *\n",
    "*                                                                      *\n",
    "*                                                                      *\n",
    "*                      Copyright (c) 2021                              *\n",
    "*                                                                      *\n",
    "************************************************************************\n",
    "'''"
   ]
  },
  {
   "cell_type": "markdown",
   "metadata": {},
   "source": [
    "We can extract and use the license via the add_metadata() method:"
   ]
  },
  {
   "cell_type": "code",
   "execution_count": 27,
   "metadata": {},
   "outputs": [],
   "source": [
    "mbi_cle.add_metadata(contents=license_txt, kind='LICENSE')"
   ]
  },
  {
   "cell_type": "code",
   "execution_count": 28,
   "metadata": {},
   "outputs": [
    {
     "ename": "Exception",
     "evalue": "Not implemented yet!",
     "output_type": "error",
     "traceback": [
      "\u001b[0;31m---------------------------------------------------------------------------\u001b[0m",
      "\u001b[0;31mException\u001b[0m                                 Traceback (most recent call last)",
      "\u001b[0;32m<ipython-input-28-337cd28c2ecf>\u001b[0m in \u001b[0;36m<module>\u001b[0;34m\u001b[0m\n\u001b[0;32m----> 1\u001b[0;31m \u001b[0mmbi_cle\u001b[0m\u001b[0;34m.\u001b[0m\u001b[0mfetch\u001b[0m\u001b[0;34m(\u001b[0m\u001b[0;34m)\u001b[0m\u001b[0;34m\u001b[0m\u001b[0;34m\u001b[0m\u001b[0m\n\u001b[0m",
      "\u001b[0;32m~/Documentos/Trabajo/instrumentos/dmps/src/data/datasets.py\u001b[0m in \u001b[0;36mfetch\u001b[0;34m(self, fetch_path, force)\u001b[0m\n\u001b[1;32m    556\u001b[0m         \u001b[0mself\u001b[0m\u001b[0;34m.\u001b[0m\u001b[0mfetched_files_\u001b[0m \u001b[0;34m=\u001b[0m \u001b[0;34m[\u001b[0m\u001b[0;34m]\u001b[0m\u001b[0;34m\u001b[0m\u001b[0;34m\u001b[0m\u001b[0m\n\u001b[1;32m    557\u001b[0m         \u001b[0;32mfor\u001b[0m \u001b[0mitem\u001b[0m \u001b[0;32min\u001b[0m \u001b[0mself\u001b[0m\u001b[0;34m.\u001b[0m\u001b[0mfile_list\u001b[0m\u001b[0;34m:\u001b[0m\u001b[0;34m\u001b[0m\u001b[0;34m\u001b[0m\u001b[0m\n\u001b[0;32m--> 558\u001b[0;31m             \u001b[0;32mraise\u001b[0m \u001b[0mException\u001b[0m\u001b[0;34m(\u001b[0m\u001b[0;34m'Not implemented yet!'\u001b[0m\u001b[0;34m)\u001b[0m\u001b[0;34m\u001b[0m\u001b[0;34m\u001b[0m\u001b[0m\n\u001b[0m\u001b[1;32m    559\u001b[0m             \u001b[0;31m# status, result, hash_value = fetch_file(**item)\u001b[0m\u001b[0;34m\u001b[0m\u001b[0;34m\u001b[0m\u001b[0;34m\u001b[0m\u001b[0m\n\u001b[1;32m    560\u001b[0m             \u001b[0;31m# if status:\u001b[0m\u001b[0;34m\u001b[0m\u001b[0;34m\u001b[0m\u001b[0;34m\u001b[0m\u001b[0m\n",
      "\u001b[0;31mException\u001b[0m: Not implemented yet!"
     ]
    }
   ],
   "source": [
    "mbi_cle.fetch()"
   ]
  },
  {
   "cell_type": "code",
   "execution_count": 30,
   "metadata": {},
   "outputs": [
    {
     "name": "stdout",
     "output_type": "stream",
     "text": [
      "Help on method add_file in module src.data.datasets:\n",
      "\n",
      "add_file(hash_type='sha1', hash_value=None, name=None, *, file_name) method of src.data.datasets.RawDataset instance\n",
      "    Add a file to the file list.\n",
      "    \n",
      "    This file must exist on disk, as there is no method specified for fetching it.\n",
      "    This is useful when the raw dataset requires an offline procedure for downloading.\n",
      "    \n",
      "    hash_type: {'sha1', 'md5', 'sha256'}\n",
      "    hash_value: string or None\n",
      "        if None, hash will be computed from specified file\n",
      "    file_name: string\n",
      "        Name of downloaded file.\n",
      "    name: str\n",
      "        text description of this file.\n",
      "\n"
     ]
    }
   ],
   "source": [
    "help(mbi_cle.add_file)"
   ]
  },
  {
   "cell_type": "code",
   "execution_count": 35,
   "metadata": {},
   "outputs": [],
   "source": [
    "for file in list_dir(processed_data_path):\n",
    "    mbi_cle.add_file(hash_type='sha256', name=file, file_name=processed_data_path / file)"
   ]
  },
  {
   "cell_type": "code",
   "execution_count": 36,
   "metadata": {},
   "outputs": [
    {
     "data": {
      "text/plain": [
       "{'url_list': [{'contents': '\\n************************************************************************\\n*                                                                      *\\n*                              MBI_CLE                                 *\\n*                                                                      *\\n*                                                                      *\\n*                      Copyright (c) 2021                              *\\n*                                                                      *\\n************************************************************************\\n',\n",
       "   'file_name': 'mbi-cle.license',\n",
       "   'name': 'LICENSE'},\n",
       "  {'contents': '\\n************************************************************************\\n*                                                                      *\\n*                              MBI_CLE                                 *\\n*                                                                      *\\n*                                                                      *\\n*                      Copyright (c) 2021                              *\\n*                                                                      *\\n************************************************************************\\n',\n",
       "   'file_name': 'mbi-cle.license',\n",
       "   'name': 'LICENSE'},\n",
       "  {'hash_type': 'sha1',\n",
       "   'hash_value': None,\n",
       "   'name': '2020',\n",
       "   'file_name': PosixPath('/home/gfogwil/Documentos/Trabajo/instrumentos/dmps/data/processed/2020')},\n",
       "  {'hash_type': 'sha1',\n",
       "   'hash_value': None,\n",
       "   'name': '2016',\n",
       "   'file_name': PosixPath('/home/gfogwil/Documentos/Trabajo/instrumentos/dmps/data/processed/2016')},\n",
       "  {'hash_type': 'sha1',\n",
       "   'hash_value': None,\n",
       "   'name': 'events-2015.csv',\n",
       "   'file_name': PosixPath('/home/gfogwil/Documentos/Trabajo/instrumentos/dmps/data/processed/events-2015.csv')},\n",
       "  {'hash_type': 'sha1',\n",
       "   'hash_value': None,\n",
       "   'name': 'events-2016.csv',\n",
       "   'file_name': PosixPath('/home/gfogwil/Documentos/Trabajo/instrumentos/dmps/data/processed/events-2016.csv')},\n",
       "  {'hash_type': 'sha1',\n",
       "   'hash_value': None,\n",
       "   'name': 'events-2020.csv',\n",
       "   'file_name': PosixPath('/home/gfogwil/Documentos/Trabajo/instrumentos/dmps/data/processed/events-2020.csv')},\n",
       "  {'hash_type': 'sha1',\n",
       "   'hash_value': None,\n",
       "   'name': 'events-2018.csv',\n",
       "   'file_name': PosixPath('/home/gfogwil/Documentos/Trabajo/instrumentos/dmps/data/processed/events-2018.csv')},\n",
       "  {'hash_type': 'sha1',\n",
       "   'hash_value': None,\n",
       "   'name': '2019',\n",
       "   'file_name': PosixPath('/home/gfogwil/Documentos/Trabajo/instrumentos/dmps/data/processed/2019')},\n",
       "  {'hash_type': 'sha1',\n",
       "   'hash_value': None,\n",
       "   'name': '2015',\n",
       "   'file_name': PosixPath('/home/gfogwil/Documentos/Trabajo/instrumentos/dmps/data/processed/2015')},\n",
       "  {'hash_type': 'sha1',\n",
       "   'hash_value': None,\n",
       "   'name': 'events-2013.csv',\n",
       "   'file_name': PosixPath('/home/gfogwil/Documentos/Trabajo/instrumentos/dmps/data/processed/events-2013.csv')},\n",
       "  {'hash_type': 'sha1',\n",
       "   'hash_value': None,\n",
       "   'name': '2013',\n",
       "   'file_name': PosixPath('/home/gfogwil/Documentos/Trabajo/instrumentos/dmps/data/processed/2013')},\n",
       "  {'hash_type': 'sha1',\n",
       "   'hash_value': None,\n",
       "   'name': '2014',\n",
       "   'file_name': PosixPath('/home/gfogwil/Documentos/Trabajo/instrumentos/dmps/data/processed/2014')},\n",
       "  {'hash_type': 'sha1',\n",
       "   'hash_value': None,\n",
       "   'name': 'events-2014.csv',\n",
       "   'file_name': PosixPath('/home/gfogwil/Documentos/Trabajo/instrumentos/dmps/data/processed/events-2014.csv')},\n",
       "  {'hash_type': 'sha1',\n",
       "   'hash_value': None,\n",
       "   'name': 'events-2017.csv',\n",
       "   'file_name': PosixPath('/home/gfogwil/Documentos/Trabajo/instrumentos/dmps/data/processed/events-2017.csv')},\n",
       "  {'hash_type': 'sha1',\n",
       "   'hash_value': None,\n",
       "   'name': '2017',\n",
       "   'file_name': PosixPath('/home/gfogwil/Documentos/Trabajo/instrumentos/dmps/data/processed/2017')},\n",
       "  {'hash_type': 'sha1',\n",
       "   'hash_value': None,\n",
       "   'name': '2018',\n",
       "   'file_name': PosixPath('/home/gfogwil/Documentos/Trabajo/instrumentos/dmps/data/processed/2018')},\n",
       "  {'hash_type': 'sha1',\n",
       "   'hash_value': None,\n",
       "   'name': 'events-2019.csv',\n",
       "   'file_name': PosixPath('/home/gfogwil/Documentos/Trabajo/instrumentos/dmps/data/processed/events-2019.csv')},\n",
       "  {'hash_type': 'sha256',\n",
       "   'hash_value': None,\n",
       "   'name': '2020',\n",
       "   'file_name': PosixPath('/home/gfogwil/Documentos/Trabajo/instrumentos/dmps/data/processed/2020')},\n",
       "  {'hash_type': 'sha256',\n",
       "   'hash_value': None,\n",
       "   'name': '2016',\n",
       "   'file_name': PosixPath('/home/gfogwil/Documentos/Trabajo/instrumentos/dmps/data/processed/2016')},\n",
       "  {'hash_type': 'sha256',\n",
       "   'hash_value': None,\n",
       "   'name': 'events-2015.csv',\n",
       "   'file_name': PosixPath('/home/gfogwil/Documentos/Trabajo/instrumentos/dmps/data/processed/events-2015.csv')},\n",
       "  {'hash_type': 'sha256',\n",
       "   'hash_value': None,\n",
       "   'name': 'events-2016.csv',\n",
       "   'file_name': PosixPath('/home/gfogwil/Documentos/Trabajo/instrumentos/dmps/data/processed/events-2016.csv')},\n",
       "  {'hash_type': 'sha256',\n",
       "   'hash_value': None,\n",
       "   'name': 'events-2020.csv',\n",
       "   'file_name': PosixPath('/home/gfogwil/Documentos/Trabajo/instrumentos/dmps/data/processed/events-2020.csv')},\n",
       "  {'hash_type': 'sha256',\n",
       "   'hash_value': None,\n",
       "   'name': 'events-2018.csv',\n",
       "   'file_name': PosixPath('/home/gfogwil/Documentos/Trabajo/instrumentos/dmps/data/processed/events-2018.csv')},\n",
       "  {'hash_type': 'sha256',\n",
       "   'hash_value': None,\n",
       "   'name': '2019',\n",
       "   'file_name': PosixPath('/home/gfogwil/Documentos/Trabajo/instrumentos/dmps/data/processed/2019')},\n",
       "  {'hash_type': 'sha256',\n",
       "   'hash_value': None,\n",
       "   'name': '2015',\n",
       "   'file_name': PosixPath('/home/gfogwil/Documentos/Trabajo/instrumentos/dmps/data/processed/2015')},\n",
       "  {'hash_type': 'sha256',\n",
       "   'hash_value': None,\n",
       "   'name': 'events-2013.csv',\n",
       "   'file_name': PosixPath('/home/gfogwil/Documentos/Trabajo/instrumentos/dmps/data/processed/events-2013.csv')},\n",
       "  {'hash_type': 'sha256',\n",
       "   'hash_value': None,\n",
       "   'name': '2013',\n",
       "   'file_name': PosixPath('/home/gfogwil/Documentos/Trabajo/instrumentos/dmps/data/processed/2013')},\n",
       "  {'hash_type': 'sha256',\n",
       "   'hash_value': None,\n",
       "   'name': '2014',\n",
       "   'file_name': PosixPath('/home/gfogwil/Documentos/Trabajo/instrumentos/dmps/data/processed/2014')},\n",
       "  {'hash_type': 'sha256',\n",
       "   'hash_value': None,\n",
       "   'name': 'events-2014.csv',\n",
       "   'file_name': PosixPath('/home/gfogwil/Documentos/Trabajo/instrumentos/dmps/data/processed/events-2014.csv')},\n",
       "  {'hash_type': 'sha256',\n",
       "   'hash_value': None,\n",
       "   'name': 'events-2017.csv',\n",
       "   'file_name': PosixPath('/home/gfogwil/Documentos/Trabajo/instrumentos/dmps/data/processed/events-2017.csv')},\n",
       "  {'hash_type': 'sha256',\n",
       "   'hash_value': None,\n",
       "   'name': '2017',\n",
       "   'file_name': PosixPath('/home/gfogwil/Documentos/Trabajo/instrumentos/dmps/data/processed/2017')},\n",
       "  {'hash_type': 'sha256',\n",
       "   'hash_value': None,\n",
       "   'name': '2018',\n",
       "   'file_name': PosixPath('/home/gfogwil/Documentos/Trabajo/instrumentos/dmps/data/processed/2018')},\n",
       "  {'hash_type': 'sha256',\n",
       "   'hash_value': None,\n",
       "   'name': 'events-2019.csv',\n",
       "   'file_name': PosixPath('/home/gfogwil/Documentos/Trabajo/instrumentos/dmps/data/processed/events-2019.csv')}],\n",
       " 'load_function_module': 'src.utils',\n",
       " 'load_function_name': 'process_dataset_default',\n",
       " 'load_function_args': (),\n",
       " 'load_function_kwargs': {},\n",
       " 'name': 'mbi-cle',\n",
       " 'dataset_dir': '/home/gfogwil/Documentos/Trabajo/instrumentos/dmps/data/raw'}"
      ]
     },
     "execution_count": 36,
     "metadata": {},
     "output_type": "execute_result"
    }
   ],
   "source": [
    "mbi_cle.to_dict()"
   ]
  },
  {
   "cell_type": "code",
   "execution_count": null,
   "metadata": {},
   "outputs": [],
   "source": []
  }
 ],
 "metadata": {
  "kernelspec": {
   "display_name": "Python 3",
   "language": "python",
   "name": "python3"
  },
  "language_info": {
   "codemirror_mode": {
    "name": "ipython",
    "version": 3
   },
   "file_extension": ".py",
   "mimetype": "text/x-python",
   "name": "python",
   "nbconvert_exporter": "python",
   "pygments_lexer": "ipython3",
   "version": "3.7.4"
  }
 },
 "nbformat": 4,
 "nbformat_minor": 5
}
