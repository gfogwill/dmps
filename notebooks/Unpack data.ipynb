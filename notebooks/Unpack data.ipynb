{
 "cells": [
  {
   "cell_type": "code",
   "execution_count": 1,
   "metadata": {},
   "outputs": [],
   "source": [
    "%load_ext autoreload\n",
    "%autoreload 2"
   ]
  },
  {
   "cell_type": "code",
   "execution_count": 2,
   "metadata": {},
   "outputs": [],
   "source": [
    "import logging\n",
    "from src.log import logger\n",
    "logger.setLevel(logging.INFO)"
   ]
  },
  {
   "cell_type": "markdown",
   "metadata": {},
   "source": [
    "## Directories\n",
    "\n",
    "- data\n",
    "   - Data directory. often symlinked to a filesystem with lots of space\n",
    "  \n",
    "- data/raw\n",
    "  - Raw (immutable) hash-verified downloads\n",
    "  \n",
    "- data/interim\n",
    "  - Extracted and interim data representations, such as caches\n",
    "  \n",
    "- data/processed\n",
    "  - The final, cleaned and processed data sets for modeling.\n"
   ]
  },
  {
   "cell_type": "code",
   "execution_count": 42,
   "metadata": {},
   "outputs": [],
   "source": [
    "from src.paths import raw_data_path, interim_data_path, processed_data_path, external_data_path\n"
   ]
  },
  {
   "cell_type": "markdown",
   "metadata": {},
   "source": [
    "## mbi-cle: \n",
    "\n",
    "\n",
    "The Learning Vector Quantization (lvq-pak) project includes a simple Finnish phonetic dataset consisting 20-dimensional Mel Frequency Cepstrum Coefficients (MFCCs) labelled with target phoneme information. Our goal is to explore this dataset, process it into a useful form, and make it a part of a reproducible data science workflow."
   ]
  },
  {
   "cell_type": "code",
   "execution_count": 12,
   "metadata": {},
   "outputs": [],
   "source": [
    "dataset_name = 'mbi-cle'     # Naming things: the hardest problem in computer science."
   ]
  },
  {
   "cell_type": "code",
   "execution_count": 13,
   "metadata": {},
   "outputs": [],
   "source": [
    "from src.utils import list_dir"
   ]
  },
  {
   "cell_type": "code",
   "execution_count": 14,
   "metadata": {},
   "outputs": [
    {
     "data": {
      "text/plain": [
       "['2020',\n",
       " '2016',\n",
       " 'events-2015.csv',\n",
       " 'events-2016.csv',\n",
       " 'events-2020.csv',\n",
       " 'events-2018.csv',\n",
       " '2019',\n",
       " '2015',\n",
       " 'events-2013.csv',\n",
       " '2013',\n",
       " '2014',\n",
       " 'events-2014.csv',\n",
       " 'events-2017.csv',\n",
       " '2017',\n",
       " '2018',\n",
       " 'events-2019.csv']"
      ]
     },
     "execution_count": 14,
     "metadata": {},
     "output_type": "execute_result"
    }
   ],
   "source": [
    "list_dir(processed_data_path)\n"
   ]
  },
  {
   "cell_type": "code",
   "execution_count": 18,
   "metadata": {},
   "outputs": [],
   "source": [
    "from src.data.datasets import Dataset"
   ]
  },
  {
   "cell_type": "code",
   "execution_count": 62,
   "metadata": {},
   "outputs": [],
   "source": [
    "mbi_cle = RawDataset(dataset_name)\n",
    "# lvq_pak.add_url(url=\"http://www.cis.hut.fi/research/lvq_pak/lvq_pak-3.1.tar\")"
   ]
  },
  {
   "cell_type": "markdown",
   "metadata": {},
   "source": [
    "Can get help"
   ]
  },
  {
   "cell_type": "code",
   "execution_count": 63,
   "metadata": {},
   "outputs": [
    {
     "name": "stdout",
     "output_type": "stream",
     "text": [
      "Help on function add_url in module src.data.datasets:\n",
      "\n",
      "add_url(self, url=None, hash_type='sha1', hash_value=None, name=None, file_name=None)\n",
      "    Add a URL to the file list\n",
      "    \n",
      "    hash_type: {'sha1', 'md5', 'sha256'}\n",
      "    hash_value: string or None\n",
      "        if None, hash will be computed from downloaded file\n",
      "    file_name: string or None\n",
      "        Name of downloaded file. If None, will be the last component of the URL\n",
      "    url: string\n",
      "        URL to fetch\n",
      "    name: str\n",
      "        text description of this file.\n",
      "\n"
     ]
    }
   ],
   "source": [
    "help(RawDataset.add_url)"
   ]
  },
  {
   "cell_type": "markdown",
   "metadata": {},
   "source": [
    "We will use this feature to add a README to our dataset:"
   ]
  },
  {
   "cell_type": "code",
   "execution_count": 64,
   "metadata": {},
   "outputs": [],
   "source": [
    "# mbi_cle.add_url(url='http://www.smn.gov.ar/',\n",
    "#                 file_name=f'{dataset_name}.readme',\n",
    "#                 name='DESCR')"
   ]
  },
  {
   "cell_type": "markdown",
   "metadata": {},
   "source": [
    "Datasets should always have an explicit license. Reading the project documentation, we see a license in one of the textfiles."
   ]
  },
  {
   "cell_type": "code",
   "execution_count": 65,
   "metadata": {},
   "outputs": [],
   "source": [
    "license_txt = '''\n",
    "************************************************************************\n",
    "*                                                                      *\n",
    "*                              MBI_CLE                                 *\n",
    "*                                                                      *\n",
    "*                                                                      *\n",
    "*                      Copyright (c) 2021                              *\n",
    "*                                                                      *\n",
    "************************************************************************\n",
    "'''"
   ]
  },
  {
   "cell_type": "markdown",
   "metadata": {},
   "source": [
    "We can extract and use the license via the add_metadata() method:"
   ]
  },
  {
   "cell_type": "code",
   "execution_count": 49,
   "metadata": {},
   "outputs": [],
   "source": [
    "mbi_cle.add_metadata(contents=license_txt, kind='LICENSE')"
   ]
  },
  {
   "cell_type": "code",
   "execution_count": 50,
   "metadata": {},
   "outputs": [
    {
     "data": {
      "text/plain": [
       "True"
      ]
     },
     "execution_count": 50,
     "metadata": {},
     "output_type": "execute_result"
    }
   ],
   "source": [
    "mbi_cle.fetch()"
   ]
  },
  {
   "cell_type": "code",
   "execution_count": 68,
   "metadata": {},
   "outputs": [],
   "source": [
    "for file in list_dir(external_data_path):\n",
    "    mbi_cle.add_file(hash_type='sha256', name=file, file_name=external_data_path / file)"
   ]
  },
  {
   "cell_type": "code",
   "execution_count": 73,
   "metadata": {},
   "outputs": [
    {
     "data": {
      "text/plain": [
       "{'hash_type': 'sha256',\n",
       " 'hash_value': None,\n",
       " 'name': 'DMPSmbiocle2019.dat',\n",
       " 'file_name': PosixPath('/home/gfogwil/Documentos/Trabajo/instrumentos/dmps/data/external/DMPSmbiocle2019.dat')}"
      ]
     },
     "execution_count": 73,
     "metadata": {},
     "output_type": "execute_result"
    }
   ],
   "source": [
    "mbi_cle.file_list[0]"
   ]
  },
  {
   "cell_type": "code",
   "execution_count": 69,
   "metadata": {},
   "outputs": [
    {
     "name": "stdout",
     "output_type": "stream",
     "text": [
      "url_list [{'hash_type': 'sha256', 'hash_value': None, 'name': 'DMPSmbiocle2019.dat', 'file_name': PosixPath('/home/gfogwil/Documentos/Trabajo/instrumentos/dmps/data/external/DMPSmbiocle2019.dat')}, {'hash_type': 'sha256', 'hash_value': None, 'name': 'DMPSmbiocle2015.dat', 'file_name': PosixPath('/home/gfogwil/Documentos/Trabajo/instrumentos/dmps/data/external/DMPSmbiocle2015.dat')}, {'hash_type': 'sha256', 'hash_value': None, 'name': 'DMPSmbiocle2018.dat', 'file_name': PosixPath('/home/gfogwil/Documentos/Trabajo/instrumentos/dmps/data/external/DMPSmbiocle2018.dat')}, {'hash_type': 'sha256', 'hash_value': None, 'name': 'DMPSmbiocle2014.dat', 'file_name': PosixPath('/home/gfogwil/Documentos/Trabajo/instrumentos/dmps/data/external/DMPSmbiocle2014.dat')}, {'hash_type': 'sha256', 'hash_value': None, 'name': 'DMPSmbiocle2020.dat', 'file_name': PosixPath('/home/gfogwil/Documentos/Trabajo/instrumentos/dmps/data/external/DMPSmbiocle2020.dat')}, {'hash_type': 'sha256', 'hash_value': None, 'name': 'DMPSmbiocle2016.dat', 'file_name': PosixPath('/home/gfogwil/Documentos/Trabajo/instrumentos/dmps/data/external/DMPSmbiocle2016.dat')}, {'hash_type': 'sha256', 'hash_value': None, 'name': 'DMPSmbiocle2013.dat', 'file_name': PosixPath('/home/gfogwil/Documentos/Trabajo/instrumentos/dmps/data/external/DMPSmbiocle2013.dat')}, {'hash_type': 'sha256', 'hash_value': None, 'name': 'DMPSmbiocle2017.dat', 'file_name': PosixPath('/home/gfogwil/Documentos/Trabajo/instrumentos/dmps/data/external/DMPSmbiocle2017.dat')}] \n",
      "\n",
      "load_function_module src.utils \n",
      "\n",
      "load_function_name process_dataset_default \n",
      "\n",
      "load_function_args () \n",
      "\n",
      "load_function_kwargs {} \n",
      "\n",
      "name mbi-cle \n",
      "\n",
      "dataset_dir /home/gfogwil/Documentos/Trabajo/instrumentos/dmps/data/raw \n",
      "\n"
     ]
    }
   ],
   "source": [
    "for key, value in mbi_cle.to_dict().items() :\n",
    "    print(key, value, '\\n')"
   ]
  },
  {
   "cell_type": "code",
   "execution_count": null,
   "metadata": {},
   "outputs": [],
   "source": []
  }
 ],
 "metadata": {
  "kernelspec": {
   "display_name": "Python 3",
   "language": "python",
   "name": "python3"
  },
  "language_info": {
   "codemirror_mode": {
    "name": "ipython",
    "version": 3
   },
   "file_extension": ".py",
   "mimetype": "text/x-python",
   "name": "python",
   "nbconvert_exporter": "python",
   "pygments_lexer": "ipython3",
   "version": "3.7.4"
  }
 },
 "nbformat": 4,
 "nbformat_minor": 5
}
